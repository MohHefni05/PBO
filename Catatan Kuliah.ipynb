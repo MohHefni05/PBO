{
 "cells": [
  {
   "cell_type": "markdown",
   "metadata": {},
   "source": [
    "# CLASS VS OBJECT"
   ]
  },
  {
   "cell_type": "markdown",
   "metadata": {},
   "source": [
    "Pengenalan Tentang Class<br>"
   ]
  },
  {
   "cell_type": "markdown",
   "metadata": {},
   "source": [
    "<p>Perbedaan Atribut dan Method<P>\n",
    "<img src=\"gambar/1.png\">\n",
    "<img src=\"gambar/2.png\">\n",
    "<p>Definisi Class</P>\n",
    "<p>class merupakan sebuah objek yang di dalam nya biasanya terdapat beberapa metode yang memang merupakan isi dari sebuah class ini. Class dan metode ini biasa di sembut sebagai OOP atau object oriented programing. Dan OOP ini memang fungsinya untuk memudahkan proses atau kegiatan programing, Ya mirip degan sebuah metode yang sudah saya bahas sebelumnya, namun, class ini merupakan sebuah objek yang lebih complex dengan di dalamnya berisi beberapa metode</p>\n",
    "<img src=\"gambar/3.png\">\n",
    "<p>Perbedaan Class dan Objek</p>\n",
    "<img src=\"gambar/3.jpg\">\n",
    "<p>Penjelasan</p>\n",
    "<p>keyword class diikuti dengan nama class yang kita inginkan. Lebih baik digunakan kata yang diawali huruf kapital. constructor menggunakan method bawaan Python yang bernama init. Metode init() adalah metode konstruktor, yaitu metode khusus yang digunakan Python untuk menginisialisasi pembuatan objek dari kelas tersebut. Setiap method harus memiliki parameter self yang artinya method tersebut dimiliki dan terdaftar ke class tersebut untuk membedakan dari method atau fungsi yang ada di luar class.</p>"
   ]
  },
  {
   "cell_type": "code",
   "execution_count": 56,
   "metadata": {},
   "outputs": [
    {
     "name": "stdout",
     "output_type": "stream",
     "text": [
      "Sisinya adalah =  4\n",
      "Luas Permukaan = 16\n"
     ]
    }
   ],
   "source": [
    "class Kubus:\n",
    "    def __init__(self,s):\n",
    "        self.sisi = s\n",
    "        \n",
    "    def tampilkansisi(self):\n",
    "        print(\"Sisinya adalah = \",self.sisi)\n",
    "        \n",
    "    def luas(self):\n",
    "        print(\"Luas Permukaan =\",self.sisi**2)\n",
    "        \n",
    "Kubus1 = Kubus(4)\n",
    "Kubus1.tampilkansisi()\n",
    "Kubus1.luas()"
   ]
  },
  {
   "cell_type": "markdown",
   "metadata": {},
   "source": [
    "<p>Contoh Program menggunakan class dan objek untuk menghitung umur :</p>"
   ]
  },
  {
   "cell_type": "code",
   "execution_count": 14,
   "metadata": {},
   "outputs": [
    {
     "name": "stdout",
     "output_type": "stream",
     "text": [
      "Moh. Hefni , CEO dan 15000000\n",
      "Umur : 19\n"
     ]
    }
   ],
   "source": [
    "from datetime import datetime\n",
    "sekarang = datetime.now()\n",
    "tahun = sekarang.year\n",
    "\n",
    "class pegawai:\n",
    "    def __init__ (self,n,j,g,lahir):\n",
    "        self.nama = n\n",
    "        self.jabatan = j\n",
    "        self.gaji = g\n",
    "        self.tahunlahir = lahir\n",
    "    def tampilkan(self):\n",
    "        print(self.nama,\",\",self.jabatan,\"dan\",self.gaji*30)\n",
    "    def tampilkanumur(self):\n",
    "        print(\"Umur :\",tahun-self.tahunlahir)\n",
    "        \n",
    "p1 = pegawai(\"Moh. Hefni\",\"CEO\",500000,2000)\n",
    "p1.tampilkan()\n",
    "p1.tampilkanumur()"
   ]
  },
  {
   "cell_type": "markdown",
   "metadata": {},
   "source": [
    "<p>Contoh Program untuk untuk menentukan Lulus / tidak persyaratan bidik misi pada mahasiswa :</p>"
   ]
  },
  {
   "cell_type": "code",
   "execution_count": 16,
   "metadata": {},
   "outputs": [
    {
     "name": "stdout",
     "output_type": "stream",
     "text": [
      "Moh. Hefni , 180441100033\n",
      "IPK :  2.75\n",
      "tidak lulus persyaratan bidikmisi\n",
      "\n",
      "Moh. Hefni , 180441100033\n",
      "IPK :  3.5\n",
      "Anda Lulus Persyaratan Bidikmisi\n"
     ]
    }
   ],
   "source": [
    "class Mahasiswa:\n",
    "    def __init__(self,n,no,ip):\n",
    "        self.nama = n\n",
    "        self.nim = no\n",
    "        self.ipk = ip\n",
    "    def tampilan(self):\n",
    "        print(self.nama,\",\",self.nim)\n",
    "        print(\"IPK : \",self.ipk)\n",
    "    def bidikmisi(self):\n",
    "        if(self.ipk<3):\n",
    "            print(\"tidak lulus persyaratan bidikmisi\")\n",
    "        else:\n",
    "            print(\"Anda Lulus Persyaratan Bidikmisi\")\n",
    "        \n",
    "m1 = Mahasiswa(\"Moh. Hefni\",\"180441100033\",2.75)\n",
    "m1.tampilan()\n",
    "m1.bidikmisi()\n",
    "print()\n",
    "m2 = Mahasiswa(\"Moh. Hefni\",\"180441100033\",3.5)\n",
    "m2.tampilan()\n",
    "m2.bidikmisi()"
   ]
  },
  {
   "cell_type": "markdown",
   "metadata": {},
   "source": [
    "# Inheritance"
   ]
  },
  {
   "cell_type": "markdown",
   "metadata": {},
   "source": [
    "<p>Pewarisan/Penurunan adalah konsep pemrograman dimana sebuah class dapat 'menurunkan' property dan method yang dimilikinya kepada class lain.</p>\n",
    "<p>inheritance (penurunan sifat / pewarisan), ini merupakan ciri khas dari OOP yang tidak terdapat pada pemrograman prosedural gaya lama. Dalam hal ini, inheritance bertujuan membentuk obyek baru yang memiliki sifat sama atau mirip dengan obyek yang sudah ada sebelumnya (pewarisan). Obyek turunan dapat digunakan membetuk obyek turunan lagi dan seterusnya. Setiap perubahan pada obyek induk, juga akan mengubah obyek turunannya. Susunan obyek induk dengan obyek turunannya disebut dengan hirarki obyek.\n",
    "Keuntungan Inheritance:\n",
    " \"Saat anda ingin membuat class baru, dan ternyata pada class lain telah ada code yang ingin anda gunakan, maka anda tinggal meng-extend class lain tersebut.\"</p>\n",
    "<img src=\"gambar/5.png\">\n",
    "<p>Tipe Inheritance : </p>\n",
    "<img src=\"gambar/4.png\">"
   ]
  },
  {
   "cell_type": "code",
   "execution_count": 17,
   "metadata": {},
   "outputs": [
    {
     "name": "stdout",
     "output_type": "stream",
     "text": [
      "Name = brian\n"
     ]
    }
   ],
   "source": [
    "class User:\n",
    "    name = \"\"\n",
    "    def __init__(self, name):\n",
    "        self.name = name\n",
    "    def printName(self):\n",
    "        print (\"Name = \" + self.name)\n",
    "brian = User(\"brian\") \n",
    "brian.printName()"
   ]
  },
  {
   "cell_type": "code",
   "execution_count": 20,
   "metadata": {},
   "outputs": [
    {
     "name": "stdout",
     "output_type": "stream",
     "text": [
      "Name :  brian\n",
      "Programing python\n",
      "Name :  Diana\n"
     ]
    }
   ],
   "source": [
    "class user:\n",
    "    name = \"\"\n",
    "    def __init__ (self,nama):\n",
    "        self.name = nama\n",
    "    def printname (self):\n",
    "        print (\"Name : \",self.name)\n",
    "        \n",
    "class programer(user):\n",
    "    def __init__ (self,nama):\n",
    "        self.name = nama\n",
    "    def dopython (self):\n",
    "        print (\"Programing python\")\n",
    "\n",
    "brian = user(\"brian\")\n",
    "brian.printname()\n",
    "\n",
    "diana = programer(\"Diana\")\n",
    "diana.dopython()\n",
    "diana.printname()  "
   ]
  },
  {
   "cell_type": "code",
   "execution_count": 23,
   "metadata": {},
   "outputs": [
    {
     "name": "stdout",
     "output_type": "stream",
     "text": [
      "terry fish\n",
      "bone\n",
      "false\n",
      "the fish is swimming\n",
      "the fish can swim backwards\n",
      "\n",
      "casey fish\n",
      "the fish is swimming\n",
      "the clownfish coexisting with sea anemone\n"
     ]
    }
   ],
   "source": [
    "class fish:\n",
    "    def __init__ (self,first_name,last_name=\"fish\",skeleton=\"bone\",eyelids=\"false\"):\n",
    "        self.first_name = first_name\n",
    "        self.last_name = last_name\n",
    "        self.skeleton = skeleton\n",
    "        self.eyelids = eyelids\n",
    "    def swim(self):\n",
    "        print (\"the fish is swimming\")\n",
    "    def swim_backwards(self):\n",
    "        print(\"the fish can swim backwards\")\n",
    "\n",
    "class trout(fish):\n",
    "    pass\n",
    "class clownfish(fish):\n",
    "    def live_with_anemone(self):\n",
    "        print (\"the clownfish coexisting with sea anemone\")\n",
    "        \n",
    "terry = trout(\"terry\")\n",
    "print(terry.first_name+\" \"+terry.last_name)\n",
    "print(terry.skeleton)\n",
    "print(terry.eyelids)\n",
    "terry.swim()\n",
    "terry.swim_backwards()\n",
    "print()\n",
    "casey = clownfish(\"casey\")\n",
    "print(casey.first_name+\" \"+terry.last_name)\n",
    "casey.swim()\n",
    "casey.live_with_anemone()"
   ]
  },
  {
   "cell_type": "code",
   "execution_count": 24,
   "metadata": {},
   "outputs": [
    {
     "name": "stdout",
     "output_type": "stream",
     "text": [
      "Coral lives in a community\n",
      "The anemone is protecting the clownfish\n"
     ]
    }
   ],
   "source": [
    "class Coral:\n",
    "    def community(self):\n",
    "        print(\"Coral lives in a community\")\n",
    "        \n",
    "class Anemone:\n",
    "    def protect_clownfish(self):\n",
    "        print(\"The anemone is protecting the clownfish\")\n",
    "        \n",
    "class CoralReef(Coral,Anemone):\n",
    "    pass\n",
    "\n",
    "great_barrier = CoralReef()\n",
    "great_barrier.community()\n",
    "great_barrier.protect_clownfish()"
   ]
  },
  {
   "cell_type": "code",
   "execution_count": 51,
   "metadata": {},
   "outputs": [
    {
     "name": "stdout",
     "output_type": "stream",
     "text": [
      "Nama :  Moh. Hefni \n",
      "\n",
      "Saya Mahasiswa\n",
      "Nama :  Moh. Hefni\n",
      "NPM :  1804411000033 \n",
      "\n",
      "Saya Pegawai\n",
      "Nama :  Habibul\n",
      "NIP :  84927492742 \n",
      "\n",
      "Saya Dosen\n",
      "Nama :  Hairati\n",
      "NIP :  84927492742\n",
      "NIDN :  9849353495\n"
     ]
    }
   ],
   "source": [
    "class Orang:\n",
    "    def __init__ (self,nama):\n",
    "        self.nama = nama\n",
    "    def tampilan1(self):\n",
    "        print (\"Nama : \",self.nama,\"\\n\")\n",
    "\n",
    "class Mahasiswa(Orang):\n",
    "    def __init__ (self,nama,npm):\n",
    "        super().__init__(nama)\n",
    "        self.npm = npm\n",
    "    def tampilan2(self):\n",
    "        print (\"Saya Mahasiswa\")\n",
    "        print (\"Nama : \",self.nama)\n",
    "        print (\"NPM : \",self.npm,\"\\n\")\n",
    "        \n",
    "class Pegawai(Orang):\n",
    "    def __init__ (self,nama,nip):\n",
    "        super().__init__(nama)\n",
    "        self.nip = nip\n",
    "    def tampilan3(self):\n",
    "        print (\"Saya Pegawai\")\n",
    "        print (\"Nama : \",self.nama)\n",
    "        print (\"NIP : \",self.nip,\"\\n\")\n",
    "        \n",
    "class Karyawan(Pegawai):\n",
    "    pass\n",
    "\n",
    "class Dosen(Pegawai):\n",
    "    def __init__ (self,nama,nip,nidn):\n",
    "        super().__init__(nama,nip)\n",
    "        self.nidn = nidn\n",
    "    def tampilan4(self):\n",
    "        print (\"Saya Dosen\")\n",
    "        print (\"Nama : \",self.nama)\n",
    "        print (\"NIP : \",self.nip)\n",
    "        print (\"NIDN : \",self.nidn)\n",
    "\n",
    "Orang = Orang(\"Moh. Hefni\")\n",
    "Orang.tampilan1()\n",
    "\n",
    "Orang = Mahasiswa(\"Moh. Hefni\",\"1804411000033\")\n",
    "Orang.tampilan2()\n",
    "\n",
    "Orang = Pegawai(\"Habibul\",\"84927492742\")\n",
    "Orang.tampilan3()\n",
    "\n",
    "Orang = Dosen(\"Hairati\",\"84927492742\",\"9849353495\")\n",
    "Orang.tampilan4()"
   ]
  },
  {
   "cell_type": "code",
   "execution_count": 34,
   "metadata": {},
   "outputs": [
    {
     "name": "stdout",
     "output_type": "stream",
     "text": [
      "Nama: Mule\n",
      "Jenis rambut: Coklat\n",
      "\n",
      "Nama: Mule\n",
      "Berat: 145 Kg\n",
      "\n",
      "Nama: Mule\n",
      "Jenis rambut: Coklat\n",
      "Berat: 145 Kg\n"
     ]
    }
   ],
   "source": [
    "class Kuda:\n",
    "    def __init__(self,nama,rambut):\n",
    "        self.nama = nama\n",
    "        self.rambut = rambut\n",
    "    def tampilkan1(self):\n",
    "        print(\"Nama:\",self.nama)\n",
    "        print(\"Jenis rambut:\",self.rambut)\n",
    "        print(\"\")\n",
    "        \n",
    "class Keledai:\n",
    "    def __init__(self,nama,berat):\n",
    "        self.nama = nama\n",
    "        self.berat = berat\n",
    "    def tampilkan2(self):\n",
    "        print(\"Nama:\",self.nama)\n",
    "        print(\"Berat:\",self.berat)\n",
    "        print(\"\")\n",
    "        \n",
    "class Mule(Keledai,Kuda):\n",
    "    def __init__(self,nama,berat,rambut):\n",
    "        self.nama = nama\n",
    "        self.berat = berat\n",
    "        self.rambut = rambut\n",
    "    def tampilkan3(self):\n",
    "        print(\"Nama:\",self.nama)\n",
    "        print(\"Jenis rambut:\",self.rambut)\n",
    "        print(\"Berat:\",self.berat)\n",
    "    \n",
    "anak = Mule(\"Mule\",\"145 Kg\",\"Coklat\")\n",
    "anak.tampilkan1()\n",
    "anak.tampilkan2()\n",
    "anak.tampilkan3()"
   ]
  },
  {
   "cell_type": "code",
   "execution_count": 37,
   "metadata": {},
   "outputs": [
    {
     "name": "stdout",
     "output_type": "stream",
     "text": [
      "Nama Karyawan: Moh Hefni\n",
      "Kode karyawan: 63839259329\n",
      "Kode cabang: 129032495031\n",
      "\n",
      "Nama Karyawan: Habibul\n",
      "Kode karyawan: 953275832342\n",
      "Kode cabang: 859302850203\n",
      "\n"
     ]
    }
   ],
   "source": [
    "class Orang:\n",
    "    def __init__(self,nama):\n",
    "        self.nama = nama\n",
    "    def tampilkannama(self):\n",
    "        print(\"Nama Karyawan:\",self.nama)\n",
    "\n",
    "class Karyawan(Orang):\n",
    "    def __init__(self,nama,kode):\n",
    "        super().__init__(nama)\n",
    "        self.kode = kode\n",
    "    def tampilkankaryawan(self):\n",
    "        super().tampilkannama()\n",
    "        print(\"Kode karyawan:\",self.kode)\n",
    "\n",
    "class Karyawancabang(Karyawan):\n",
    "    def __init__(self,nama,kode,kodecab):\n",
    "        super().__init__(nama,kode)\n",
    "        self.kodecab = kodecab\n",
    "    def kantorcabang(self):\n",
    "        super().tampilkankaryawan()\n",
    "        print(\"Kode cabang:\",self.kodecab+\"\\n\")\n",
    "\n",
    "o = Karyawancabang(\"Moh Hefni\",\"63839259329\",\"129032495031\")\n",
    "o.kantorcabang()\n",
    "d = Karyawancabang(\"Habibul\",\"953275832342\",\"859302850203\")\n",
    "d.kantorcabang()"
   ]
  },
  {
   "cell_type": "code",
   "execution_count": 40,
   "metadata": {},
   "outputs": [
    {
     "name": "stdout",
     "output_type": "stream",
     "text": [
      "Nama: moh. Hefni\n",
      "NIP: 180441100033\n",
      "Nama Mata kuliah: Pemrograman Berbasis Objek\n",
      "Kode Mata kuliah: SI101\n",
      "Nilai: A\n"
     ]
    }
   ],
   "source": [
    "class Mahasiswa:\n",
    "    def __init__(self,nama,npm):\n",
    "        self.nama = nama\n",
    "        self.nip = npm\n",
    "    def namanip(self):\n",
    "        print(\"Nama:\",self.nama)\n",
    "        print(\"NIP:\",self.nip)\n",
    "class Matkul:\n",
    "    def cetakmatkul(self,kode,mk):        \n",
    "        self.kodemk = kode\n",
    "        self.matkul = mk\n",
    "        print(\"Nama Mata kuliah:\",self.matkul)\n",
    "        print(\"Kode Mata kuliah:\",self.kodemk)\n",
    "class AmbilMatkul(Mahasiswa,Matkul):\n",
    "    def __init__(self,nama,npm,kode,mk,nilai):\n",
    "        self.nama = nama\n",
    "        self.nim = npm\n",
    "        self.kdmk = kode\n",
    "        self.mk = mk\n",
    "        self.nilai = nilai\n",
    "    def cetak(self):\n",
    "        Mahasiswa.__init__(self,self.nama,self.nim)\n",
    "        Mahasiswa.namanip(self)\n",
    "        super().cetakmatkul(self.kdmk,self.mk)\n",
    "        print(\"Nilai:\",self.nilai)\n",
    "        \n",
    "saya = AmbilMatkul(\"moh. Hefni\",\"180441100033\",\"SI101\",\"Pemrograman Berbasis Objek\",\"A\")\n",
    "saya.cetak()"
   ]
  },
  {
   "cell_type": "markdown",
   "metadata": {},
   "source": [
    "# Polymorphism"
   ]
  },
  {
   "cell_type": "markdown",
   "metadata": {},
   "source": [
    "<p>Pengertian Polymorphism ( Banyak Bentuk )</p>\n",
    "\n",
    "<p>Polymorphism, suatu aksi yang memungkinkan pemrogram menyampaikan pesan tertentu keluar dari hirarki obyeknya, dimana obyek yang berbeda memberikan tanggapan/respon terhadap pesan yang sama sesuai dengan sifat masing-masing obyek.<p>\n",
    "\n",
    "<p>Atau Polymorphism dapat berarti banyak bentuk, maksudnya yaitu kita dapat menimpa (override), suatu method, yang berasal dari parent class (super class) dimana object tersebut diturunkan, sehingga memiliki kelakuan yang berbeda.</p>\n",
    "\n",
    "<p>Polymorphism dapat disamakan dengan Method Overloading, dimana di dalam sebuah class terdapat beberapa method dengan nama sama. Sebuah Method bernama CetakData() yang misalnya berfungsi menampilkan data String, tentu tidak bisa menangani masukan berupa data numerik, boolean, ataupun karakter, demikian juga sebaliknya. Solusi yang bisa dilakukan adalah dengan menyediakan beberapa Method CetakData() yang akan menangani setiap tipe data, sehingga data apapun yang diberikan sebagai parameter tetap bisa diproses.</p>\n",
    "<img src=\"gambar/4.jpg\">\n"
   ]
  },
  {
   "cell_type": "markdown",
   "metadata": {},
   "source": [
    "<p>Contoh Program Polymorphism with a Function :</p>"
   ]
  },
  {
   "cell_type": "code",
   "execution_count": 43,
   "metadata": {},
   "outputs": [
    {
     "name": "stdout",
     "output_type": "stream",
     "text": [
      "the shark's skelaton is mode of cartilago\n",
      "the clownfish's skelaton is mode of bone\n",
      "the shark is swim\n",
      "the clownfish is swim\n"
     ]
    }
   ],
   "source": [
    "class shark():\n",
    "    def swim(self):\n",
    "        print(\"the shark is swim\")\n",
    "    def swim_backwards():\n",
    "        print(\"the shark cannot swim backwars,but can sink backward\")\n",
    "    def skalaton(self):\n",
    "        print(\"the shark's skelaton is mode of cartilago\")\n",
    "\n",
    "class clownfish():\n",
    "    def swim(self):\n",
    "        print(\"the clownfish is swim\")\n",
    "    def swim_backwards():\n",
    "        print(\"the clownfish can swim backwars,but can sink backward\")\n",
    "    def skalaton(self):\n",
    "        print(\"the clownfish's skelaton is mode of bone\")\n",
    "sammy=shark()\n",
    "sammy.skalaton()\n",
    "\n",
    "cassey=clownfish()\n",
    "cassey.skalaton()\n",
    "\n",
    "# Polymorphism with a Function\n",
    "def in_the_pacific(fish):\n",
    "    fish.swim()\n",
    "\n",
    "in_the_pacific(sammy)\n",
    "in_the_pacific(cassey)"
   ]
  },
  {
   "cell_type": "code",
   "execution_count": 47,
   "metadata": {},
   "outputs": [
    {
     "name": "stdout",
     "output_type": "stream",
     "text": [
      "Groaarr\n",
      "Guukk\n"
     ]
    }
   ],
   "source": [
    "class Bear:\n",
    "    def sound(self):\n",
    "        print(\"Groaarr\")\n",
    "class Dog:\n",
    "    def sound(self):\n",
    "        print(\"Guukk\")\n",
    "        \n",
    "def make_sound(animal):\n",
    "    animal.sound()\n",
    "    \n",
    "beruang = Bear()\n",
    "anjing = Dog()\n",
    "\n",
    "make_sound(beruang)\n",
    "make_sound(anjing)"
   ]
  },
  {
   "cell_type": "markdown",
   "metadata": {},
   "source": [
    "<p>contoh program Polymorphism with Class Methods : </p>"
   ]
  },
  {
   "cell_type": "code",
   "execution_count": 48,
   "metadata": {},
   "outputs": [
    {
     "name": "stdout",
     "output_type": "stream",
     "text": [
      "the shark skelaton is mode of cartilago\n",
      "the clamfish skelaton is mode of bone\n",
      "the shark cannot swim backwars,but can sink backward\n",
      "the clamfish can swim backwars,but can sink backward\n"
     ]
    }
   ],
   "source": [
    "class shark:\n",
    "    def swim(self):\n",
    "        print(\"the shark is swim\")\n",
    "    def swim_backwards(self):\n",
    "        print(\"the shark cannot swim backwars,but can sink backward\")\n",
    "    def skalaton(self):\n",
    "        print(\"the shark skelaton is mode of cartilago\")\n",
    "\n",
    "class clownfish:\n",
    "    def swim(self):\n",
    "        print(\"the clam fish is swim\")\n",
    "    def swim_backwards(self):\n",
    "        print(\"the clamfish can swim backwars,but can sink backward\")\n",
    "    def skalaton(self):\n",
    "        print(\"the clamfish skelaton is mode of bone\")\n",
    "sammy=shark()\n",
    "sammy.skalaton()\n",
    "\n",
    "cassey=clownfish()\n",
    "cassey.skalaton()\n",
    "\n",
    "#Polymorphism with Class Methods\n",
    "for fish in (sammy,cassey):\n",
    "    fish.swim_backwards()"
   ]
  },
  {
   "cell_type": "code",
   "execution_count": 45,
   "metadata": {},
   "outputs": [
    {
     "name": "stdout",
     "output_type": "stream",
     "text": [
      "Document1: Show pdf contents!\n",
      "Document2: Show pdf contents!\n",
      "Document3: Show word contents!\n"
     ]
    }
   ],
   "source": [
    "class Document:\n",
    "    def __init__(self, name):\n",
    "        self.name = name\n",
    "    def show(self):\n",
    "        raise NotImplementedError(\"Subclass must implement abstract method\")\n",
    "        \n",
    "class Pdf(Document):\n",
    "    def show(self):\n",
    "        return 'Show pdf contents!'\n",
    "    \n",
    "class Word(Document):\n",
    "    def show(self):\n",
    "        return 'Show word contents!'\n",
    "    \n",
    "documents = [Pdf('Document1'),\n",
    "Pdf('Document2'),\n",
    "Word('Document3')]\n",
    " \n",
    "for document in documents:\n",
    "    print (document.name + ': ' + document.show())"
   ]
  },
  {
   "cell_type": "code",
   "execution_count": 46,
   "metadata": {},
   "outputs": [
    {
     "name": "stdout",
     "output_type": "stream",
     "text": [
      "Bananatruck: Truck driving slowly because heavily loaded.\n",
      "Orangetruck: Truck driving slowly because heavily loaded.\n",
      "Z3: Sportscar driving!\n"
     ]
    }
   ],
   "source": [
    "class Car:\n",
    "    def __init__(self, name):\n",
    "        self.name = name\n",
    "    def drive(self):\n",
    "        raise NotImplementedError(\"Subclass must implement abstract method\")\n",
    "    def stop(self):\n",
    "        raise NotImplementedError(\"Subclass must implement abstract method\")\n",
    "class Sportscar(Car):\n",
    "    def drive(self):\n",
    "        return 'Sportscar driving!'\n",
    "    def stop(self):\n",
    "        return 'Sportscar braking!'\n",
    "class Truck(Car):\n",
    "    def drive(self):\n",
    "        return 'Truck driving slowly because heavily loaded.'\n",
    "    def stop(self):\n",
    "        return 'Truck braking!'\n",
    "cars = [Truck('Bananatruck'),Truck('Orangetruck'),Sportscar('Z3')]\n",
    "for car in cars:\n",
    "    print (car.name + ': ' + car.drive())"
   ]
  },
  {
   "cell_type": "code",
   "execution_count": 49,
   "metadata": {},
   "outputs": [
    {
     "name": "stdout",
     "output_type": "stream",
     "text": [
      "Bangun Ruang:  Persegi ;banyak garis :  4 ;Besar sudut:  90 deg ;Warna : Kuning\n",
      "\n",
      "Bangun Ruang:  Lingkaran ;banyak garis :  0 ;Besar sudut:  360 deg ;Warna : Biru\n",
      "\n",
      "Bangun Ruang:  Segitiga ;banyak garis :  3 ;Besar sudut:  30 deg ;Warna : Hijau\n",
      "\n"
     ]
    }
   ],
   "source": [
    "class shape:\n",
    "    def __init__(self,nama,jgaris):\n",
    "        self.nama = nama\n",
    "        self.jgaris = jgaris\n",
    "    def name(self):\n",
    "        raise NotImplementedError()\n",
    "    def garis(self):\n",
    "        raise NotImplementedError()\n",
    "class persegi(shape):\n",
    "    def __init__(self, sudut, nama,jgaris,color):\n",
    "        shape.__init__(self,nama,jgaris)\n",
    "        self.sudut = sudut\n",
    "        self.color = color\n",
    "    #PRINT\n",
    "    def name(self):\n",
    "        return self.nama\n",
    "    def garis(self):\n",
    "        return self.jgaris\n",
    "    def cetak_sudut(self):\n",
    "        return self.sudut\n",
    "    def warna(self):\n",
    "        return self.color\n",
    "class lingkaran(shape):\n",
    "    def __init__(self, sudut, nama,jgaris,color):\n",
    "        shape.__init__(self,nama,jgaris)\n",
    "        self.sudut = sudut\n",
    "        self.color = color\n",
    "    #PRINT\n",
    "    def name(self):\n",
    "        return self.nama\n",
    "    def garis(self):\n",
    "        return \"0\"\n",
    "    def cetak_sudut(self):\n",
    "        return \"360 deg\"\n",
    "    def warna(self):\n",
    "        return self.color\n",
    "class segitiga(shape):\n",
    "    def __init__(self, sudut, nama,jgaris,color):\n",
    "        shape.__init__(self,nama,jgaris)\n",
    "        self.sudut = sudut\n",
    "        self.color = color\n",
    "    #PRINT\n",
    "    def name(self):\n",
    "        return self.nama\n",
    "    def garis(self):\n",
    "        return self.jgaris\n",
    "    def cetak_sudut(self):\n",
    "        return self.sudut\n",
    "    def warna(self):\n",
    "        return self.color\n",
    "    \n",
    "bangun_1 = persegi(\"90 deg\", \"Persegi\",\"4\",\"Kuning\")\n",
    "bangun_2 = lingkaran(\"360 deg\",\"Lingkaran\",\"1\",\"Biru\")\n",
    "bangun_3 = segitiga(\"30 deg\", \"Segitiga\",\"3\",\"Hijau\")\n",
    "\n",
    "for ruang in (bangun_1, bangun_2, bangun_3):\n",
    "    print(\"Bangun Ruang: \",ruang.name(),\";banyak garis : \",ruang.garis(),\";Besar sudut: \",ruang.cetak_sudut(),\";Warna :\",ruang.warna())\n",
    "    print()"
   ]
  },
  {
   "cell_type": "code",
   "execution_count": 50,
   "metadata": {},
   "outputs": [
    {
     "name": "stdout",
     "output_type": "stream",
     "text": [
      "katty : kasir\n",
      "helly : pelayan\n",
      "cobra : manajer\n",
      "jony : kurir\n",
      "jono : cheff\n",
      "dodi : kooki\n",
      "dodo : Ob\n",
      "jery : satpam\n",
      "juminten : ob\n",
      "jojo : pelayan\n"
     ]
    }
   ],
   "source": [
    "class karyawan:\n",
    "    def __init__(self,nama,deskripsi):\n",
    "        self.nama=nama\n",
    "        self.deskripsi=deskripsi\n",
    "    def tampilkan(self):\n",
    "        print(\"nama:\",self.nama,\"\\n\",\"deskripsi:\",self.deskripsi)\n",
    "\n",
    "class koki(karyawan):\n",
    "    pass\n",
    "\n",
    "class pizza(karyawan):\n",
    "    pass\n",
    "\n",
    "karyawan_pizza=[pizza('katty','kasir'),\n",
    "                pizza('helly','pelayan'),\n",
    "                pizza('cobra','manajer'),\n",
    "                pizza('jony','kurir'),\n",
    "                pizza('jono','cheff'),\n",
    "                pizza('dodi','kooki'),\n",
    "                pizza('dodo','Ob'),\n",
    "                pizza('jery','satpam'),\n",
    "                pizza('juminten','ob'),\n",
    "                pizza('jojo','pelayan')]\n",
    "for karyawan in karyawan_pizza:\n",
    "    print(karyawan.nama,':',karyawan.deskripsi)"
   ]
  }
 ],
 "metadata": {
  "kernelspec": {
   "display_name": "Python 3",
   "language": "python",
   "name": "python3"
  },
  "language_info": {
   "codemirror_mode": {
    "name": "ipython",
    "version": 3
   },
   "file_extension": ".py",
   "mimetype": "text/x-python",
   "name": "python",
   "nbconvert_exporter": "python",
   "pygments_lexer": "ipython3",
   "version": "3.7.1"
  }
 },
 "nbformat": 4,
 "nbformat_minor": 2
}
